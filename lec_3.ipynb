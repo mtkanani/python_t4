{
 "cells": [
  {
   "cell_type": "code",
   "execution_count": 11,
   "metadata": {},
   "outputs": [
    {
     "name": "stdout",
     "output_type": "stream",
     "text": [
      "45\n",
      "[1 2 3]\n",
      "[[1 2]\n",
      " [3 4]]\n",
      "[[[1 2]\n",
      "  [3 4]]\n",
      "\n",
      " [[5 6]\n",
      "  [7 8]]]\n",
      "[[[ 1  2]\n",
      "  [ 3  4]]\n",
      "\n",
      " [[ 5  6]\n",
      "  [ 7  8]]\n",
      "\n",
      " [[ 9 10]\n",
      "  [11 12]]]\n",
      "0\n",
      "1\n",
      "2\n",
      "3\n"
     ]
    }
   ],
   "source": [
    "import numpy as np\n",
    "arr=np.array(45)\n",
    "ar1=np.array([1,2,3])\n",
    "arr2=np.array([[1,2],[3,4]])\n",
    "arr3=np.array([[[1,2],[3,4]],[[5,6],[7,8]]])\n",
    "arr4=np.array([[[1,2],[3,4]],[[5,6],[7,8]],[[9,10],[11,12]]])\n",
    "\n",
    "print(arr)\n",
    "print(ar1)\n",
    "print(arr2)\n",
    "print(arr3)\n",
    "print(arr4)\n",
    "print(arr.ndim)\n",
    "print(ar1.ndim)\n",
    "print(arr2.ndim)\n",
    "print(arr3.ndim)"
   ]
  },
  {
   "cell_type": "code",
   "execution_count": 26,
   "metadata": {},
   "outputs": [
    {
     "name": "stdout",
     "output_type": "stream",
     "text": [
      "1\n",
      "5\n",
      "2\n",
      "3\n",
      "10\n",
      "4\n",
      "4\n",
      "10\n",
      "[1 2]\n",
      "[1 2 3 4]\n",
      "[10  9  8]\n",
      "[[2 3 4]\n",
      " [7 8 9]]\n"
     ]
    }
   ],
   "source": [
    "import numpy as np\n",
    "arr=np.array(45)\n",
    "arr1=np.array([1,2,3])\n",
    "arr2=np.array([[1,2],[3,4]])\n",
    "arr3=np.array([[[1,2],[3,4]],[[5,6],[7,8]]])\n",
    "arr4=np.array([[[1,2],[3,4]],[[5,6],[7,8]],[[9,10],[11,12]]])\n",
    "#indexing\n",
    "print(ar1[0])\n",
    "print(arr1[1]+arr1[2])\n",
    "print(arr2[0,1])\n",
    "print(arr2[1,0])\n",
    "a=np.array([[1,2,3,4,5],[6,7,8,9,10]])\n",
    "print(a[1,4])\n",
    "print(a[0,3])\n",
    "print(arr3[0,1,1])\n",
    "print(a[1,-1])\n",
    "print(arr1[0:2])\n",
    "print(a[0,:4])\n",
    "print(a[-1,-1:-4:-1])\n",
    "print(a[0:2,1:4])"
   ]
  },
  {
   "cell_type": "code",
   "execution_count": 36,
   "metadata": {},
   "outputs": [
    {
     "name": "stdout",
     "output_type": "stream",
     "text": [
      "(3,)\n",
      "(2, 3)\n",
      "(2, 2, 2)\n",
      "4\n",
      "[[ 1  2  3  4  5  6]\n",
      " [ 7  8  9 10 11 12]]\n",
      "[[ 1  2  3  4]\n",
      " [ 5  6  7  8]\n",
      " [ 9 10 11 12]]\n",
      "[[[ 1  2]\n",
      "  [ 3  4]\n",
      "  [ 5  6]]\n",
      "\n",
      " [[ 7  8]\n",
      "  [ 9 10]\n",
      "  [11 12]]]\n",
      "[[[ 1  2]\n",
      "  [ 3  4]]\n",
      "\n",
      " [[ 5  6]\n",
      "  [ 7  8]]\n",
      "\n",
      " [[ 9 10]\n",
      "  [11 12]]]\n",
      "[1 2 3 4 5 6]\n",
      "1\n",
      "2\n",
      "3\n",
      "[1 2 3]\n",
      "[4 5 6]\n",
      "1\n",
      "2\n",
      "3\n",
      "4\n",
      "5\n",
      "6\n",
      "7\n",
      "8\n"
     ]
    }
   ],
   "source": [
    "import numpy as np\n",
    "arr=np.array(45)\n",
    "arr1=np.array([1,2,3])\n",
    "arr2=np.array([[1,2,3],[4,5,6]])\n",
    "arr3=np.array([[[1,2],[3,4]],[[5,6],[7,8]]])\n",
    "#indexing\n",
    "print(arr1.shape)\n",
    "print(arr2.shape)\n",
    "print(arr3.shape)\n",
    "print(arr2[1,0])\n",
    "a=np.array([[1,2,3,4,5,6,7,8,9,10,11,12]])\n",
    "print(a.reshape(2,6))\n",
    "print(a.reshape(3,4))\n",
    "print(a.reshape(2,3,2))\n",
    "print(a.reshape(3,2,-1))\n",
    "print(arr2.reshape(-1))\n",
    "for i in arr1:\n",
    "    print(i)\n",
    "for i in arr2:\n",
    "    print(i)\n",
    "for i in np.nditer(arr3):\n",
    "    print(i)"
   ]
  },
  {
   "cell_type": "code",
   "execution_count": 42,
   "metadata": {},
   "outputs": [
    {
     "name": "stdout",
     "output_type": "stream",
     "text": [
      "1\n",
      "3\n",
      "5\n",
      "6\n",
      "8\n",
      "10\n"
     ]
    }
   ],
   "source": [
    "#wap to using numpy to create 2*5 array ittrate threw evry scaler element of that array skiping by one element \n",
    "import numpy as a\n",
    "a1=a.array([[1,2,3,4,5],[6,7,8,9,10]])\n",
    "for i in np.nditer(a1[:,::2]):\n",
    "    print(i)\n",
    "    "
   ]
  },
  {
   "cell_type": "code",
   "execution_count": null,
   "metadata": {},
   "outputs": [],
   "source": []
  }
 ],
 "metadata": {
  "kernelspec": {
   "display_name": "Python 3",
   "language": "python",
   "name": "python3"
  },
  "language_info": {
   "codemirror_mode": {
    "name": "ipython",
    "version": 3
   },
   "file_extension": ".py",
   "mimetype": "text/x-python",
   "name": "python",
   "nbconvert_exporter": "python",
   "pygments_lexer": "ipython3",
   "version": "3.8.5"
  }
 },
 "nbformat": 4,
 "nbformat_minor": 4
}
