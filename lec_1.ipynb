{
 "cells": [
  {
   "cell_type": "code",
   "execution_count": 7,
   "metadata": {},
   "outputs": [
    {
     "name": "stdout",
     "output_type": "stream",
     "text": [
      "perent\n",
      "child\n",
      "perent\n"
     ]
    },
    {
     "ename": "AttributeError",
     "evalue": "'parent' object has no attribute 'm2'",
     "output_type": "error",
     "traceback": [
      "\u001b[1;31m---------------------------------------------------------------------------\u001b[0m",
      "\u001b[1;31mAttributeError\u001b[0m                            Traceback (most recent call last)",
      "\u001b[1;32m<ipython-input-7-b04e6d624c17>\u001b[0m in \u001b[0;36m<module>\u001b[1;34m\u001b[0m\n\u001b[0;32m     10\u001b[0m \u001b[0mp2\u001b[0m\u001b[1;33m.\u001b[0m\u001b[0mm2\u001b[0m\u001b[1;33m(\u001b[0m\u001b[1;33m)\u001b[0m\u001b[1;33m\u001b[0m\u001b[1;33m\u001b[0m\u001b[0m\n\u001b[0;32m     11\u001b[0m \u001b[0mp2\u001b[0m\u001b[1;33m.\u001b[0m\u001b[0mm1\u001b[0m\u001b[1;33m(\u001b[0m\u001b[1;33m)\u001b[0m\u001b[1;33m\u001b[0m\u001b[1;33m\u001b[0m\u001b[0m\n\u001b[1;32m---> 12\u001b[1;33m \u001b[0mp1\u001b[0m\u001b[1;33m.\u001b[0m\u001b[0mm2\u001b[0m\u001b[1;33m(\u001b[0m\u001b[1;33m)\u001b[0m\u001b[1;33m\u001b[0m\u001b[1;33m\u001b[0m\u001b[0m\n\u001b[0m",
      "\u001b[1;31mAttributeError\u001b[0m: 'parent' object has no attribute 'm2'"
     ]
    }
   ],
   "source": [
    "class parent:\n",
    "    def m1(self):\n",
    "        print(\"perent\")\n",
    "class ch(parent):\n",
    "    def m2(self):\n",
    "        print(\"child\")\n",
    "p1=parent()\n",
    "p1.m1()\n",
    "p2=ch()\n",
    "p2.m2()\n",
    "# p2.m1()"
   ]
  },
  {
   "cell_type": "code",
   "execution_count": 13,
   "metadata": {},
   "outputs": [
    {
     "name": "stdout",
     "output_type": "stream",
     "text": [
      "perent\n",
      "child\n",
      "perent\n"
     ]
    },
    {
     "ename": "AttributeError",
     "evalue": "'ch1' object has no attribute 'm2'",
     "output_type": "error",
     "traceback": [
      "\u001b[1;31m---------------------------------------------------------------------------\u001b[0m",
      "\u001b[1;31mAttributeError\u001b[0m                            Traceback (most recent call last)",
      "\u001b[1;32m<ipython-input-13-111731da331e>\u001b[0m in \u001b[0;36m<module>\u001b[1;34m\u001b[0m\n\u001b[0;32m     16\u001b[0m \u001b[0mp3\u001b[0m\u001b[1;33m=\u001b[0m\u001b[0mch1\u001b[0m\u001b[1;33m(\u001b[0m\u001b[1;33m)\u001b[0m\u001b[1;33m\u001b[0m\u001b[1;33m\u001b[0m\u001b[0m\n\u001b[0;32m     17\u001b[0m \u001b[0mp3\u001b[0m\u001b[1;33m.\u001b[0m\u001b[0mm1\u001b[0m\u001b[1;33m(\u001b[0m\u001b[1;33m)\u001b[0m\u001b[1;33m\u001b[0m\u001b[1;33m\u001b[0m\u001b[0m\n\u001b[1;32m---> 18\u001b[1;33m \u001b[0mp3\u001b[0m\u001b[1;33m.\u001b[0m\u001b[0mm2\u001b[0m\u001b[1;33m(\u001b[0m\u001b[1;33m)\u001b[0m\u001b[1;33m\u001b[0m\u001b[1;33m\u001b[0m\u001b[0m\n\u001b[0m\u001b[0;32m     19\u001b[0m \u001b[0mp3\u001b[0m\u001b[1;33m.\u001b[0m\u001b[0mm3\u001b[0m\u001b[1;33m(\u001b[0m\u001b[1;33m)\u001b[0m\u001b[1;33m\u001b[0m\u001b[1;33m\u001b[0m\u001b[0m\n",
      "\u001b[1;31mAttributeError\u001b[0m: 'ch1' object has no attribute 'm2'"
     ]
    }
   ],
   "source": [
    "class ch1(parent):\n",
    "    def m3(self):\n",
    "        print(\"ch1\")\n",
    "class parent:\n",
    "    def m1(self):\n",
    "        print(\"perent\")\n",
    "class ch(parent):\n",
    "    def m2(self):\n",
    "        print(\"child\")\n",
    "\n",
    "p1=parent()\n",
    "p1.m1()\n",
    "p2=ch()\n",
    "p2.m2()\n",
    "# p2.m1()\n",
    "p3=ch1()\n",
    "p3.m1()\n",
    "p3.m2()\n",
    "p3.m3()"
   ]
  },
  {
   "cell_type": "code",
   "execution_count": 46,
   "metadata": {},
   "outputs": [
    {
     "name": "stdout",
     "output_type": "stream",
     "text": [
      "for teaching\n",
      "name : xyz salary : 200000\n",
      "subject : Python\n",
      "for non teaching\n",
      "name : abc salary : 100000\n",
      "department : CSE\n"
     ]
    }
   ],
   "source": [
    "# wap using oop inheritance concept creat a staf class atribute are name and salary create teaching class wich has atribute \n",
    "# name salary and subjact create non teaching class wich has atribute name salary and department display the details of \n",
    "# atributes\n",
    "\n",
    "class staf():\n",
    "    def __init__(self,name,salary):\n",
    "        self.name=name\n",
    "        self.salary=salary\n",
    "    def display(self):\n",
    "        print(\"name :\",self.name,\"salary :\",self.salary)\n",
    "        \n",
    "class teaching(staf):\n",
    "    def __init__(self,name,salary,sub):\n",
    "        super().__init__(name,salary)\n",
    "        self.sub=sub\n",
    "    def display1(self):\n",
    "        super().display()\n",
    "        print(\"subject :\",self.sub)\n",
    "        \n",
    "class non_teaching(staf):\n",
    "    def __init__(self,name,salary,department):\n",
    "        self.department=department\n",
    "        super().__init__(name,salary)\n",
    "    def display2(self):\n",
    "        super().display()\n",
    "        print(\"department :\",self.department)\n",
    "\n",
    "# a.display()\n",
    "print(\"for teaching\")\n",
    "b=teaching('xyz',200000,'Python')\n",
    "b.display1()\n",
    "print(\"for non teaching\")\n",
    "c=non_teaching('abc',100000,'CSE')\n",
    "c.display2()"
   ]
  },
  {
   "cell_type": "code",
   "execution_count": 53,
   "metadata": {},
   "outputs": [
    {
     "name": "stdout",
     "output_type": "stream",
     "text": [
      "abc work at google\n",
      "True\n",
      "True\n",
      "True\n"
     ]
    }
   ],
   "source": [
    "class company:\n",
    "    def companny_name(self):\n",
    "        return 'google'\n",
    "class employee(company):\n",
    "    def info(self):\n",
    "        c_n=super().companny_name()\n",
    "        print(\"abc work at\",c_n)\n",
    "c=employee()\n",
    "c.info()\n",
    "print(issubclass(employee,company))\n",
    "print(isinstance(c,employee))\n",
    "print(isinstance(c,company))\n"
   ]
  },
  {
   "cell_type": "code",
   "execution_count": 55,
   "metadata": {},
   "outputs": [
    {
     "name": "stdout",
     "output_type": "stream",
     "text": [
      "petrol\n",
      "diesel\n"
     ]
    }
   ],
   "source": [
    "class ferrari:\n",
    "    def fual_type(self):\n",
    "        print('petrol')\n",
    "class bmw:\n",
    "    def fual_type(self):\n",
    "        print('diesel')\n",
    "f=ferrari()\n",
    "b=bmw()\n",
    "for i in(f,b):\n",
    "    i.fual_type()"
   ]
  },
  {
   "cell_type": "code",
   "execution_count": 67,
   "metadata": {},
   "outputs": [
    {
     "name": "stdout",
     "output_type": "stream",
     "text": [
      "9\n",
      "15\n"
     ]
    }
   ],
   "source": [
    "def addition(a,b):\n",
    "    c=a+b\n",
    "    print(c)\n",
    "addition(4,5)\n",
    "def addition(a,b,c):\n",
    "    print(a+b+c)\n",
    "\n",
    "addition(4,5,6)"
   ]
  },
  {
   "cell_type": "code",
   "execution_count": 66,
   "metadata": {},
   "outputs": [
    {
     "name": "stdout",
     "output_type": "stream",
     "text": [
      "18\n"
     ]
    }
   ],
   "source": [
    "\n",
    "def addition(a,b,c):\n",
    "    print(a+b+c)\n",
    "addition(4,5,9)"
   ]
  },
  {
   "cell_type": "code",
   "execution_count": 73,
   "metadata": {},
   "outputs": [
    {
     "name": "stdout",
     "output_type": "stream",
     "text": [
      "900\n"
     ]
    },
    {
     "ename": "NameError",
     "evalue": "name '__add__' is not defined",
     "output_type": "error",
     "traceback": [
      "\u001b[1;31m---------------------------------------------------------------------------\u001b[0m",
      "\u001b[1;31mNameError\u001b[0m                                 Traceback (most recent call last)",
      "\u001b[1;32m<ipython-input-73-0420abf07ade>\u001b[0m in \u001b[0;36m<module>\u001b[1;34m\u001b[0m\n\u001b[0;32m     11\u001b[0m \u001b[0mprint\u001b[0m\u001b[1;33m(\u001b[0m\u001b[0mt\u001b[0m\u001b[1;33m.\u001b[0m\u001b[0mpages\u001b[0m\u001b[1;33m)\u001b[0m\u001b[1;33m\u001b[0m\u001b[1;33m\u001b[0m\u001b[0m\n\u001b[0;32m     12\u001b[0m \u001b[1;33m\u001b[0m\u001b[0m\n\u001b[1;32m---> 13\u001b[1;33m \u001b[0m__add__\u001b[0m\u001b[1;33m\u001b[0m\u001b[1;33m\u001b[0m\u001b[0m\n\u001b[0m\u001b[0;32m     14\u001b[0m \u001b[0m__add__\u001b[0m\u001b[1;33m\u001b[0m\u001b[1;33m\u001b[0m\u001b[0m\n\u001b[0;32m     15\u001b[0m \u001b[0m__add__\u001b[0m\u001b[1;33m\u001b[0m\u001b[1;33m\u001b[0m\u001b[0m\n",
      "\u001b[1;31mNameError\u001b[0m: name '__add__' is not defined"
     ]
    }
   ],
   "source": [
    "class book:\n",
    "    def __init__(self,pages):\n",
    "        self.pages=pages\n",
    "    def __add__(self,other):\n",
    "        return book(self.pages+other.pages)\n",
    "    \n",
    "b1=book(400)\n",
    "b2=book(300)\n",
    "b3=book(200)\n",
    "t=b1+b2+b3\n",
    "print(t.pages)\n",
    "\n",
    "# __add__\n",
    "# __mul__\n",
    "# __mod__\n",
    "# __truediv__\n",
    "# __fooldiv__\n",
    "# __pow__\n",
    "# __lt__\n",
    "# __gt__\n",
    "# __ge__\n",
    "# __le__\n",
    "# __ne__\n",
    "# __eq__"
   ]
  },
  {
   "cell_type": "code",
   "execution_count": 79,
   "metadata": {},
   "outputs": [
    {
     "name": "stdout",
     "output_type": "stream",
     "text": [
      "True\n",
      "False\n"
     ]
    }
   ],
   "source": [
    "class book:\n",
    "    def __init__(self,pages):\n",
    "        self.pages=pages\n",
    "    def __lt__(self,other):\n",
    "        return self.pages<other.pages\n",
    "    def __gt__(self,other):\n",
    "        return self.pages>other.pages\n",
    "    \n",
    "b1=book(400)\n",
    "b2=book(300)\n",
    "print(b1>b2)\n",
    "print(b1<b2)"
   ]
  },
  {
   "cell_type": "code",
   "execution_count": null,
   "metadata": {},
   "outputs": [],
   "source": []
  }
 ],
 "metadata": {
  "kernelspec": {
   "display_name": "Python 3",
   "language": "python",
   "name": "python3"
  },
  "language_info": {
   "codemirror_mode": {
    "name": "ipython",
    "version": 3
   },
   "file_extension": ".py",
   "mimetype": "text/x-python",
   "name": "python",
   "nbconvert_exporter": "python",
   "pygments_lexer": "ipython3",
   "version": "3.8.5"
  }
 },
 "nbformat": 4,
 "nbformat_minor": 4
}
