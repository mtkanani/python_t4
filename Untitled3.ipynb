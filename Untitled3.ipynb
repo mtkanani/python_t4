{
 "cells": [
  {
   "cell_type": "code",
   "execution_count": 1,
   "metadata": {},
   "outputs": [],
   "source": [
    "class parent1:\n",
    "    def func1(self):\n",
    "        print(\"hellp p1\")\n",
    "class parent2:\n",
    "    def func2(self):\n",
    "        print(\"hello p2\")\n",
    "class child(parent1):\n",
    "    def func3(self):\n",
    "        print(\"hello child1\")\n",
    "class child2(child,parent2):\n",
    "    def func4(self):\n",
    "        print(\"hello child2\")\n",
    "\n",
    "c1= child()\n",
    "c1.func1()\n",
    "c1.func3()\n",
    "\n",
    "c2=child2()\n",
    "c2.func2()\n",
    "c2.func4()\n",
    "c2.func3()"
   ]
  },
  {
   "cell_type": "code",
   "execution_count": 2,
   "metadata": {},
   "outputs": [
    {
     "name": "stdout",
     "output_type": "stream",
     "text": [
      "50\n"
     ]
    }
   ],
   "source": [
    "#super\n",
    "class parent:\n",
    "    def __init__(self):\n",
    "        self.a1=50\n",
    "        self.a2=60\n",
    "        \n",
    "        \n",
    "class child(parent):\n",
    "    def __init__(self):\n",
    "        super().__init__()\n",
    "        self.a3=70\n",
    "    \n",
    "c1= child()\n",
    "print(c1.a1)\n"
   ]
  },
  {
   "cell_type": "code",
   "execution_count": 13,
   "metadata": {},
   "outputs": [
    {
     "name": "stdout",
     "output_type": "stream",
     "text": [
      "True\n",
      "False\n",
      "True\n",
      "True\n",
      "False\n",
      "True\n"
     ]
    }
   ],
   "source": [
    "class parent:\n",
    "    def func1(self):\n",
    "        print(\"hello parent\")\n",
    "class child(parent):\n",
    "    def func2(self):\n",
    "        print(\"hello child\")\n",
    "print(issubclass(child,parent))\n",
    "print(issubclass(parent,child))\n",
    "a=child()\n",
    "b=parent()\n",
    "print(isinstance(a,child))\n",
    "print(isinstance(a,parent))\n",
    "print(isinstance(b,child))\n",
    "print(isinstance(b,parent))"
   ]
  },
  {
   "cell_type": "code",
   "execution_count": 16,
   "metadata": {},
   "outputs": [
    {
     "name": "stdout",
     "output_type": "stream",
     "text": [
      "class b\n",
      "[<class '__main__.d'>, <class '__main__.b'>, <class '__main__.c'>, <class '__main__.a'>, <class 'object'>]\n"
     ]
    }
   ],
   "source": [
    "class a:\n",
    "    def rk(self):\n",
    "        print(\"class a\")\n",
    "class b(a):\n",
    "    def rk(self):\n",
    "        print(\"class b\")\n",
    "class c(a):\n",
    "    def rk(self):\n",
    "        print('class c')\n",
    "class d(b,c):\n",
    "        pass\n",
    "r=d()\n",
    "r.rk()\n",
    "print(d.mro())"
   ]
  },
  {
   "cell_type": "code",
   "execution_count": 20,
   "metadata": {},
   "outputs": [
    {
     "name": "stdout",
     "output_type": "stream",
     "text": [
      "bar from c2\n",
      "foo from p1\n"
     ]
    },
    {
     "data": {
      "text/plain": [
       "[__main__.mc, __main__.c1, __main__.c2, __main__.p1, __main__.p2, object]"
      ]
     },
     "execution_count": 20,
     "metadata": {},
     "output_type": "execute_result"
    }
   ],
   "source": [
    "class p1:\n",
    "    def foo(self):\n",
    "        print(\"foo from p1\")\n",
    "class p2:\n",
    "    def foo(self):\n",
    "        print(\"foo from p2\")\n",
    "    def bar(self):\n",
    "        print(\"bar from p2\")\n",
    "class c1(p1,p2):\n",
    "    pass\n",
    "class c2(p1):\n",
    "    def bar(self):\n",
    "        print(\"bar from c2\")\n",
    "class mc(c1,c2):\n",
    "    pass\n",
    "gc=mc()\n",
    "gc.bar()\n",
    "gc.foo()\n",
    "mc.mro()"
   ]
  },
  {
   "cell_type": "code",
   "execution_count": 4,
   "metadata": {},
   "outputs": [
    {
     "name": "stdout",
     "output_type": "stream",
     "text": [
      "drawing a circle\n"
     ]
    }
   ],
   "source": [
    "from abc import ABC,abstractmethod\n",
    "class shape(ABC):\n",
    "    def __init__(self,name):\n",
    "        self.name=name\n",
    "        \n",
    "        @abstractmethod\n",
    "        def draw(self):\n",
    "            pass\n",
    "class circle(shape):\n",
    "    def __init__(self):\n",
    "        super().__init__(\"square\")\n",
    "        \n",
    "    def draw(self):\n",
    "        print(\"drawing a circle\")\n",
    "        \n",
    "c= circle()\n",
    "c.draw()"
   ]
  },
  {
   "cell_type": "code",
   "execution_count": 6,
   "metadata": {},
   "outputs": [
    {
     "data": {
      "text/plain": [
       "[__main__.p,\n",
       " __main__.x,\n",
       " __main__.a,\n",
       " __main__.y,\n",
       " __main__.b,\n",
       " __main__.c,\n",
       " object]"
      ]
     },
     "execution_count": 6,
     "metadata": {},
     "output_type": "execute_result"
    }
   ],
   "source": [
    "class a:\n",
    "    def m1(self):\n",
    "        print(\"m1 from a\")\n",
    "class b:\n",
    "    def m1(self):\n",
    "        print(\"m1 from a\")\n",
    "class c:\n",
    "    def m1(self):\n",
    "        print(\"m1 from a\")\n",
    "class x(a,b):\n",
    "    def m1(self):\n",
    "        print(\"m1 from a\")\n",
    "class y(b,c):\n",
    "    def m1(self):\n",
    "        print(\"m1 from a\")\n",
    "class p(x,y,c):\n",
    "    def m1(self):\n",
    "        print(\"m1 from y\")\n",
    "p.mro()"
   ]
  },
  {
   "cell_type": "code",
   "execution_count": 11,
   "metadata": {},
   "outputs": [
    {
     "name": "stdout",
     "output_type": "stream",
     "text": [
      "[<class '__main__.z'>, <class '__main__.k1'>, <class '__main__.c'>, <class '__main__.k2'>, <class '__main__.a'>, <class '__main__.k3'>, <class '__main__.b'>, <class '__main__.d'>, <class '__main__.e'>, <class 'object'>]\n"
     ]
    }
   ],
   "source": [
    "class a:\n",
    "    pass\n",
    "class b:\n",
    "    pass\n",
    "class c:\n",
    "    pass\n",
    "class d:\n",
    "    pass\n",
    "class e:\n",
    "    pass\n",
    "\n",
    "class k1(c,a,b):\n",
    "    pass\n",
    "class k2(a,d):\n",
    "    pass\n",
    "class k3(b,d,e):\n",
    "    pass\n",
    "class z(k1,k2,k3):\n",
    "    pass\n",
    "print(z.mro())"
   ]
  },
  {
   "cell_type": "code",
   "execution_count": 22,
   "metadata": {},
   "outputs": [
    {
     "ename": "TypeError",
     "evalue": "__init__() takes 2 positional arguments but 5 were given",
     "output_type": "error",
     "traceback": [
      "\u001b[1;31m---------------------------------------------------------------------------\u001b[0m",
      "\u001b[1;31mTypeError\u001b[0m                                 Traceback (most recent call last)",
      "\u001b[1;32m<ipython-input-22-b02efc41a53b>\u001b[0m in \u001b[0;36m<module>\u001b[1;34m\u001b[0m\n\u001b[0;32m     23\u001b[0m         \u001b[0mprint\u001b[0m\u001b[1;33m(\u001b[0m\u001b[1;34m\"coursebook name is\"\u001b[0m\u001b[1;33m,\u001b[0m\u001b[0mself\u001b[0m\u001b[1;33m.\u001b[0m\u001b[0mc_book\u001b[0m\u001b[1;33m)\u001b[0m\u001b[1;33m\u001b[0m\u001b[1;33m\u001b[0m\u001b[0m\n\u001b[0;32m     24\u001b[0m \u001b[1;33m\u001b[0m\u001b[0m\n\u001b[1;32m---> 25\u001b[1;33m \u001b[0mc1\u001b[0m \u001b[1;33m=\u001b[0m \u001b[0mcoursebook\u001b[0m\u001b[1;33m(\u001b[0m\u001b[1;34m\"pyhon\"\u001b[0m\u001b[1;33m,\u001b[0m\u001b[1;34m\"meet\"\u001b[0m\u001b[1;33m,\u001b[0m\u001b[1;33m[\u001b[0m\u001b[1;34m\"32,33,33,33\"\u001b[0m\u001b[1;33m]\u001b[0m\u001b[1;33m,\u001b[0m\u001b[1;34m\"101\"\u001b[0m\u001b[1;33m)\u001b[0m\u001b[1;33m\u001b[0m\u001b[1;33m\u001b[0m\u001b[0m\n\u001b[0m\u001b[0;32m     26\u001b[0m \u001b[0mc1\u001b[0m\u001b[1;33m.\u001b[0m\u001b[0mdisplay\u001b[0m\u001b[1;33m(\u001b[0m\u001b[1;33m)\u001b[0m\u001b[1;33m\u001b[0m\u001b[1;33m\u001b[0m\u001b[0m\n\u001b[0;32m     27\u001b[0m \u001b[1;33m\u001b[0m\u001b[0m\n",
      "\u001b[1;31mTypeError\u001b[0m: __init__() takes 2 positional arguments but 5 were given"
     ]
    }
   ],
   "source": [
    "#implement the following hierachi create class book which has parameter book name no of authores than name of authores list of authors publisher isbn number and year and derived class is coursebook which has course data member\n",
    "class book:\n",
    "    def __init__(self,bname,aname,nauthor,bid,year):\n",
    "        self.bname = bname\n",
    "        self.aname = aname\n",
    "        self.bid = bid\n",
    "        self.nauthor = nauthor\n",
    "        self.year = year\n",
    "        \n",
    "def display(self):\n",
    "    print(\"banme is \",self.bname)\n",
    "    print(\"bid is \",self.bid)\n",
    "    print(\"anmane is \",self.aname)\n",
    "    print(\"nauthor is \",self.nauthor)\n",
    "    print(\"year is \",self.year)\n",
    "\n",
    "class coursebook(book):\n",
    "    def __init__(self,c_book):\n",
    "        self.c_book = c_book\n",
    "        \n",
    "    def display(self):\n",
    "        super().display(self)\n",
    "        print(\"coursebook name is\",self.c_book)\n",
    "\n",
    "c1 = coursebook(\"pyhon\",\"meet\",[\"32,33,33,33\"],\"101\")\n",
    "c1.display()\n",
    "    "
   ]
  },
  {
   "cell_type": "code",
   "execution_count": 9,
   "metadata": {},
   "outputs": [
    {
     "name": "stdout",
     "output_type": "stream",
     "text": [
      "the fare is : 5500.0\n"
     ]
    }
   ],
   "source": [
    "#wap a pyhton create bus child class that inherits from a vehicle class in vehicle class vehicle name milege and seating capcity as data members the default fair chrage of any vehicle seating capcity mul 100 if vehicle is need to add extra 10 per chance as maintece cahrge so total fair for bus instance total fair 10 pr of total fair\n",
    "class vehicle:\n",
    "    def __init__(self,vname,milege,scapacity):\n",
    "        self.vname = vname\n",
    "        self.milege = milege\n",
    "        self.scapacity = scapacity\n",
    "        \n",
    "    def calc(self):\n",
    "        fare= self.scapacity * 100\n",
    "        return fare\n",
    "    \n",
    "class bus(vehicle):\n",
    "    def __init__(self,vname,milege,scapacity):\n",
    "        super().__init__(vname,milege,scapacity)\n",
    "        \n",
    "     \n",
    "    def calc(self):\n",
    "        b_fare = super().calc()\n",
    "        f_fare = b_fare+(0.1*b_fare)\n",
    "        return f_fare\n",
    "bas = bus(\"bus\",10,50)\n",
    "fare = bas.calc()\n",
    "print(\"the fare is :\",fare)\n",
    "\n"
   ]
  },
  {
   "cell_type": "code",
   "execution_count": 26,
   "metadata": {},
   "outputs": [
    {
     "name": "stdout",
     "output_type": "stream",
     "text": [
      "eid: 101\n",
      "ename manav\n",
      "salary 1000\n",
      "da 350.0\n",
      "hf 170.0\n",
      "pf 120.0\n",
      "total salary is : 1400.0\n"
     ]
    }
   ],
   "source": [
    "#wap to find the next salary of employee using inheritance create 3 classes employee,perks,netsalary make employee class as abstract class employee class has four methods 1get employee which take user inp for id name and basic salary 2 employee details which prints id name and basic salary 3 method name is get salary which returns a basic salary 4 employee id make this employee id aS AN ABSTARACT METHOD perks class 3 method which calculate da hra pf print perks t3 total perks da hrf minus pf\n",
    "from abc import ABC,abstractmethod\n",
    "class employee(ABC):\n",
    "    def getemployee(self,eid,ename,salary):\n",
    "        self.eid = eid\n",
    "        self.ename = ename\n",
    "        self.salary = salary\n",
    "    def emp_details(self):\n",
    "        print(\"eid:\",self.eid)\n",
    "        print(\"ename\",self.ename)\n",
    "        print(\"salary\",self.salary)\n",
    "    def getsalary(self):\n",
    "        return self.salary\n",
    "    @abstractmethod\n",
    "    def emp_id(self):\n",
    "        pass\n",
    "class perks(employee):\n",
    "    da=0\n",
    "    hf=0\n",
    "    pf=0\n",
    "    total_perks=0\n",
    "    def calc_salary(self):\n",
    "        self.da = self.salary *0.35\n",
    "        self.hf = self.salary *0.17\n",
    "        self.pf = self.salary * 0.12\n",
    "    def display_perks(self):\n",
    "        print(\"da\",self.da)\n",
    "        print(\"hf\",self.hf)\n",
    "        print(\"pf\",self.pf)\n",
    "    def total_perks(self):\n",
    "        self.total_perks = self.da + self.hf - self.pf\n",
    "    def emp_id(self):\n",
    "        pass\n",
    "    \n",
    "class netsalary(perks):\n",
    "    def gettotal(self):\n",
    "        self.total_salary= self.salary+self.total_perks\n",
    "        print(\"total salary is :\" ,self.total_salary)\n",
    "    def meet(self):\n",
    "        super().getemployee(101,\"manav\",1000)\n",
    "        super().emp_details()\n",
    "        super().calc_salary()\n",
    "        super().display_perks()\n",
    "        super().total_perks()\n",
    "    def emp_id(self):\n",
    "        pass\n",
    "e1=netsalary()\n",
    "e1.meet()\n",
    "e1.gettotal()"
   ]
  },
  {
   "cell_type": "code",
   "execution_count": null,
   "metadata": {},
   "outputs": [
    {
     "name": "stdout",
     "output_type": "stream",
     "text": [
      "hdd 5000\n"
     ]
    }
   ],
   "source": [
    "class bill:\n",
    "    rates={\"hdd\":5000,\"ram\":2000,\"printer\":6000,\"pendrive\":600}\n",
    "    items={\"hdd\":0,\"ram\":0,\"printer\":0,\"pendrives\":0}\n",
    "    for i,j in rates.items():\n",
    "            print(i,j)\n",
    "            \n",
    "            user=input(\"want this items y/n?\").upper()\n",
    "            if(user==\"Y\"):\n",
    "            \n",
    "\n",
    "        "
   ]
  },
  {
   "cell_type": "code",
   "execution_count": null,
   "metadata": {},
   "outputs": [],
   "source": []
  }
 ],
 "metadata": {
  "kernelspec": {
   "display_name": "Python 3",
   "language": "python",
   "name": "python3"
  },
  "language_info": {
   "codemirror_mode": {
    "name": "ipython",
    "version": 3
   },
   "file_extension": ".py",
   "mimetype": "text/x-python",
   "name": "python",
   "nbconvert_exporter": "python",
   "pygments_lexer": "ipython3",
   "version": "3.8.5"
  }
 },
 "nbformat": 4,
 "nbformat_minor": 4
}
