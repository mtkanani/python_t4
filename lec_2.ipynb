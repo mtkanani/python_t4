{
 "cells": [
  {
   "cell_type": "code",
   "execution_count": 2,
   "metadata": {},
   "outputs": [
    {
     "name": "stdout",
     "output_type": "stream",
     "text": [
      "[<class '__main__.c'>, <class '__main__.b'>, <class 'object'>]\n"
     ]
    }
   ],
   "source": [
    "class a:\n",
    "    def m1(self):\n",
    "        print('a')\n",
    "class b:\n",
    "    def m2(self):\n",
    "        print('b')\n",
    "class c(b):\n",
    "    def m3(self):\n",
    "        print('c')\n",
    "print(c.mro())"
   ]
  },
  {
   "cell_type": "code",
   "execution_count": 3,
   "metadata": {},
   "outputs": [
    {
     "name": "stdout",
     "output_type": "stream",
     "text": [
      "[<class '__main__.f'>, <class '__main__.d'>, <class '__main__.b'>, <class '__main__.e'>, <class '__main__.c'>, <class '__main__.a'>, <class 'object'>]\n"
     ]
    }
   ],
   "source": [
    "class a:\n",
    "    pass\n",
    "class b(a):\n",
    "    pass\n",
    "class d(b):\n",
    "    pass\n",
    "class c(a):\n",
    "    pass\n",
    "class e(c):\n",
    "    pass\n",
    "class f(d,e):\n",
    "    pass\n",
    "print(f.mro())"
   ]
  },
  {
   "cell_type": "code",
   "execution_count": 4,
   "metadata": {},
   "outputs": [
    {
     "name": "stdout",
     "output_type": "stream",
     "text": [
      "[<class '__main__.z'>, <class '__main__.k1'>, <class '__main__.c'>, <class '__main__.k3'>, <class '__main__.a'>, <class '__main__.k2'>, <class '__main__.b'>, <class '__main__.d'>, <class '__main__.e'>, <class 'object'>]\n"
     ]
    }
   ],
   "source": [
    "class a:\n",
    "    pass\n",
    "class b:\n",
    "    pass \n",
    "class c:\n",
    "    pass\n",
    "class d:\n",
    "    pass\n",
    "class e:\n",
    "    pass \n",
    "class k1(c,a,b):pass\n",
    "class k3(a,d):pass \n",
    "class k2(b,d,e):pass\n",
    "class z(k1,k3,k2):pass\n",
    "print(z.mro())"
   ]
  },
  {
   "cell_type": "code",
   "execution_count": 5,
   "metadata": {},
   "outputs": [
    {
     "name": "stdout",
     "output_type": "stream",
     "text": [
      "[<class '__main__.e'>, <class '__main__.c'>, <class '__main__.d'>, <class '__main__.a'>, <class '__main__.f'>, <class '__main__.b'>, <class 'object'>]\n"
     ]
    }
   ],
   "source": [
    "# e,c,d,a,f,b,obj\n",
    "class a:\n",
    "    pass\n",
    "class b:\n",
    "    pass \n",
    "class c(a):\n",
    "    pass\n",
    "class d(a):\n",
    "    pass\n",
    "class f(b):\n",
    "    pass\n",
    "class g(b):\n",
    "    pass\n",
    "class e(c,d,f):pass\n",
    "print(e.mro())"
   ]
  },
  {
   "cell_type": "code",
   "execution_count": 19,
   "metadata": {},
   "outputs": [
    {
     "name": "stdout",
     "output_type": "stream",
     "text": [
      "circle\n",
      "draw circle\n"
     ]
    }
   ],
   "source": [
    "from abc import ABC,abstractmethod\n",
    "class shape(ABC):\n",
    "    def __init__(self,shape_name):\n",
    "        self.shape_name=shape_name\n",
    "    @abstractmethod\n",
    "    def drow(self):\n",
    "        print(\"hi\")\n",
    "class circle(shape):\n",
    "    def __init__(self):\n",
    "        super().__init__('circle')\n",
    "    def drow(self):\n",
    "        print(self.shape_name)\n",
    "        print('draw circle')\n",
    "c=circle()\n",
    "c.drow()\n",
    "    "
   ]
  },
  {
   "cell_type": "code",
   "execution_count": 31,
   "metadata": {},
   "outputs": [
    {
     "name": "stdout",
     "output_type": "stream",
     "text": [
      "enter id1234\n",
      "enter nameasd\n",
      "enter salary120\n",
      "id: 1234\n",
      "name: asd\n",
      "salary: 120\n",
      "42.0 20.4 14.4\n",
      "net salary: 168.0\n"
     ]
    }
   ],
   "source": [
    "from abc import ABC,abstractmethod\n",
    "class emp(ABC):\n",
    "    def getemp(self):\n",
    "        self.id=input(\"enter id\")\n",
    "        self.name=input(\"enter name\")\n",
    "        self.salary=int(input(\"enter salary\"))\n",
    "    def print_details(self):\n",
    "        print(\"id:\",self.id)\n",
    "        print(\"name:\",self.name)\n",
    "        print(\"salary:\",self.salary)\n",
    "    def get_salary(self):\n",
    "        return self.salary\n",
    "    @abstractmethod\n",
    "    def emp_id(self):\n",
    "        pass\n",
    "class check_perk(emp):\n",
    "    def checkperk(self):\n",
    "        self.getemp()\n",
    "        sal=self.get_salary()\n",
    "        self.da=sal*35/100\n",
    "        self.hra=sal*17/100\n",
    "        self.pf=sal*12/100\n",
    "    def putperk(self):\n",
    "        self.print_details()\n",
    "        print(self.da,self.hra,self.pf)\n",
    "    def totalperk(self):\n",
    "        t=self.da+self.hra-self.pf\n",
    "        return(t)\n",
    "    def emp_id(self):\n",
    "        print(\"\")\n",
    "class netsalary(check_perk):\n",
    "    def getTotal(self):\n",
    "        self.checkperk()\n",
    "        self.hs=self.get_salary()+self.totalperk()\n",
    "    def disp(self):\n",
    "        self.putperk()\n",
    "        print(\"net salary:\",self.hs)\n",
    "emp1=netsalary()\n",
    "emp1.getTotal()\n",
    "emp1.disp()"
   ]
  },
  {
   "cell_type": "code",
   "execution_count": 34,
   "metadata": {},
   "outputs": [
    {
     "name": "stdout",
     "output_type": "stream",
     "text": [
      "14\n"
     ]
    }
   ],
   "source": [
    "import numpy as np\n",
    "arr=np.array(14)\n",
    "print(arr)"
   ]
  },
  {
   "cell_type": "code",
   "execution_count": null,
   "metadata": {},
   "outputs": [],
   "source": []
  },
  {
   "cell_type": "code",
   "execution_count": null,
   "metadata": {},
   "outputs": [],
   "source": []
  }
 ],
 "metadata": {
  "kernelspec": {
   "display_name": "Python 3",
   "language": "python",
   "name": "python3"
  },
  "language_info": {
   "codemirror_mode": {
    "name": "ipython",
    "version": 3
   },
   "file_extension": ".py",
   "mimetype": "text/x-python",
   "name": "python",
   "nbconvert_exporter": "python",
   "pygments_lexer": "ipython3",
   "version": "3.8.5"
  }
 },
 "nbformat": 4,
 "nbformat_minor": 4
}
