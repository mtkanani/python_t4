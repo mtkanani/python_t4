{
 "cells": [
  {
   "cell_type": "code",
   "execution_count": 2,
   "metadata": {},
   "outputs": [
    {
     "name": "stdout",
     "output_type": "stream",
     "text": [
      "24\n"
     ]
    }
   ],
   "source": [
    "class A:\n",
    "    def __init__(self,a):\n",
    "        self.a=a\n",
    "    def __add__(self,other):\n",
    "        return self.a + other.a\n",
    "    \n",
    "    def __sub__(self,other):\n",
    "        return self.a - other.a\n",
    "    def __mul__(self,other):\n",
    "        return self.a*other.a\n",
    "    def __truediv__(self,other):\n",
    "        return self.a/other.a\n",
    "    def __floordiv__(self,other):\n",
    "        return self.a//other.a\n",
    "    def __mod__(self,other):\n",
    "        return self.a%other.a\n",
    "    def __pow__(self,other):\n",
    "        return self.a**other.a\n",
    "a1 = A(12)\n",
    "a2 = A(12)\n",
    "\n",
    "\n",
    "print(a1 + a2)\n"
   ]
  },
  {
   "cell_type": "code",
   "execution_count": 7,
   "metadata": {},
   "outputs": [
    {
     "name": "stdout",
     "output_type": "stream",
     "text": [
      "b2 is less than b1\n"
     ]
    }
   ],
   "source": [
    "class A:\n",
    "    def __init__(self,a):\n",
    "        self.a=a\n",
    "    def __gt__(self,other):\n",
    "        if self.a > other.a:\n",
    "            return True\n",
    "        else:\n",
    "            return False\n",
    "        \n",
    "        \n",
    "    def __lt__(self,other):\n",
    "            if self.a > other.a:\n",
    "                return True\n",
    "            else:\n",
    "                return False\n",
    "ob1=A(2)\n",
    "ob2=A(3)\n",
    "if ob1 > ob2:\n",
    "    print(\"b is less than b2\")\n",
    "else:\n",
    "    print(\"b2 is less than b1\")"
   ]
  },
  {
   "cell_type": "code",
   "execution_count": 9,
   "metadata": {},
   "outputs": [
    {
     "name": "stdout",
     "output_type": "stream",
     "text": [
      "hello prashanat\n",
      "hello child\n"
     ]
    }
   ],
   "source": [
    "class Parnet:\n",
    "    def func1(self):\n",
    "        print(\"hello prashanat\")\n",
    "class  Child(Parnet):\n",
    "    def func2(self):\n",
    "        print(\"hello child\")\n",
    "t1=Child()\n",
    "t1.func1()\n",
    "t1.func2()\n",
    "    "
   ]
  },
  {
   "cell_type": "code",
   "execution_count": 17,
   "metadata": {},
   "outputs": [
    {
     "name": "stdout",
     "output_type": "stream",
     "text": [
      "hello prashanat\n",
      "hello prashanat1\n",
      "hello prashanat2\n",
      "(<class '__main__.Child'>, <class '__main__.Parnet'>, <class '__main__.Parnet1'>, <class '__main__.Parnet2'>, <class 'object'>)\n"
     ]
    }
   ],
   "source": [
    "class Parnet:\n",
    "    def func1(self):\n",
    "        print(\"hello prashanat\")\n",
    "class Parnet1:\n",
    "    def func2(self):\n",
    "        print(\"hello prashanat1\")\n",
    "class Parnet2:\n",
    "    def func3(self):\n",
    "        print(\"hello prashanat2\")\n",
    "class  Child(Parnet,Parnet1, Parnet2):\n",
    "    def func4(self):\n",
    "        print(\"hello child\")\n",
    "t1=Child()\n",
    "t1.func1()\n",
    "t1.func2()\n",
    "t1.func3()\n",
    "\n",
    "print(Child.__mro__)"
   ]
  },
  {
   "cell_type": "code",
   "execution_count": 19,
   "metadata": {},
   "outputs": [
    {
     "name": "stdout",
     "output_type": "stream",
     "text": [
      "hellogp1\n",
      "parnet\n",
      "child\n",
      "(<class '__main__.Child'>, <class '__main__.Parent'>, <class '__main__.Grandparent'>, <class 'object'>)\n"
     ]
    }
   ],
   "source": [
    "class Grandparent:\n",
    "    def func1(self):\n",
    "        print(\"hellogp1\")\n",
    "\n",
    "class Parent(Grandparent):\n",
    "    def func2(self):\n",
    "        print(\"parnet\")\n",
    "class Child(Parent):\n",
    "    def func3(self):\n",
    "        print(\"child\")\n",
    "c1=Child()\n",
    "c1.func1()\n",
    "c1.func2()\n",
    "c1.func3()\n",
    "print(Child.__mro__)"
   ]
  },
  {
   "cell_type": "code",
   "execution_count": 23,
   "metadata": {},
   "outputs": [
    {
     "name": "stdout",
     "output_type": "stream",
     "text": [
      "parnet\n",
      "child1\n",
      "parnet\n",
      "child1\n"
     ]
    }
   ],
   "source": [
    "class Parent:\n",
    "     def func1(self):\n",
    "        print(\"parnet\")\n",
    "class Child(Parent):\n",
    "    def func2(self):\n",
    "        print(\"child1\")\n",
    "class Child1(Parent):\n",
    "    def func3(self):\n",
    "        print(\"child1\")\n",
    "c1=Child()\n",
    "c1.func1()\n",
    "c1.func2()\n",
    "\n",
    "c2=Child1()\n",
    "c2.func1()\n",
    "c2.func3()"
   ]
  }
 ],
 "metadata": {
  "kernelspec": {
   "display_name": "Python 3",
   "language": "python",
   "name": "python3"
  },
  "language_info": {
   "codemirror_mode": {
    "name": "ipython",
    "version": 3
   },
   "file_extension": ".py",
   "mimetype": "text/x-python",
   "name": "python",
   "nbconvert_exporter": "python",
   "pygments_lexer": "ipython3",
   "version": "3.8.5"
  }
 },
 "nbformat": 4,
 "nbformat_minor": 4
}
